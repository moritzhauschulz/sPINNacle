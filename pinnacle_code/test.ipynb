{
 "cells": [
  {
   "cell_type": "code",
   "execution_count": 3,
   "metadata": {},
   "outputs": [
    {
     "name": "stdout",
     "output_type": "stream",
     "text": [
      "success\n"
     ]
    }
   ],
   "source": [
    "import numpy as np\n",
    "import os\n",
    "\n",
    "class tester:\n",
    "    def __init__(self, pde_grads_history, log_dir):\n",
    "        self.pde_grads_history = pde_grads_history\n",
    "        self.log_dir = log_dir\n",
    "\n",
    "    def save_gradient_history(self):\n",
    "        np.save(os.path.join(self.log_dir,f'grads_pde.npy'), np.array(self.pde_grads_history))\n",
    "\n",
    "\n",
    "x = np.array([0,1,2])\n",
    "logdir = '/Users/moritzhauschulz/oxford_code/tdl/pinnacle_2024/pinnacle_code'\n",
    "\n",
    "testo = tester(x, logdir)\n",
    "\n",
    "testo.save_gradient_history()\n",
    "\n",
    "print('success')"
   ]
  }
 ],
 "metadata": {
  "kernelspec": {
   "display_name": ".new_venv",
   "language": "python",
   "name": "python3"
  },
  "language_info": {
   "codemirror_mode": {
    "name": "ipython",
    "version": 3
   },
   "file_extension": ".py",
   "mimetype": "text/x-python",
   "name": "python",
   "nbconvert_exporter": "python",
   "pygments_lexer": "ipython3",
   "version": "3.11.7"
  }
 },
 "nbformat": 4,
 "nbformat_minor": 2
}
